{
 "cells": [
  {
   "cell_type": "markdown",
   "id": "8c4de832",
   "metadata": {},
   "source": [
    "## Cookie Cats Mobile Game Dataset\n",
    "\n",
    "- userid: user id records, total 90189 count\n",
    "- version: ‘gate_30’ and 'gate_40', work as control group and test group\n",
    "- sum_gamerounds: total game rounds for each user\n",
    "- retention_1: whether the user stays after 1 day\n",
    "- retention_7: whether the user stays after 7 day"
   ]
  },
  {
   "cell_type": "code",
   "execution_count": 2,
   "id": "79d9e920",
   "metadata": {},
   "outputs": [
    {
     "name": "stderr",
     "output_type": "stream",
     "text": [
      "/Users/edwardrenaldi/Library/Python/3.9/lib/python/site-packages/urllib3/__init__.py:35: NotOpenSSLWarning: urllib3 v2 only supports OpenSSL 1.1.1+, currently the 'ssl' module is compiled with 'LibreSSL 2.8.3'. See: https://github.com/urllib3/urllib3/issues/3020\n",
      "  warnings.warn(\n",
      "/Users/edwardrenaldi/Library/Python/3.9/lib/python/site-packages/tqdm/auto.py:21: TqdmWarning: IProgress not found. Please update jupyter and ipywidgets. See https://ipywidgets.readthedocs.io/en/stable/user_install.html\n",
      "  from .autonotebook import tqdm as notebook_tqdm\n"
     ]
    },
    {
     "name": "stdout",
     "output_type": "stream",
     "text": [
      "Downloading from https://www.kaggle.com/api/v1/datasets/download/yufengsui/mobile-games-ab-testing?dataset_version_number=1...\n"
     ]
    },
    {
     "name": "stderr",
     "output_type": "stream",
     "text": [
      "100%|██████████| 490k/490k [00:01<00:00, 497kB/s]"
     ]
    },
    {
     "name": "stdout",
     "output_type": "stream",
     "text": [
      "Extracting files...\n",
      "Path to dataset files: /Users/edwardrenaldi/.cache/kagglehub/datasets/yufengsui/mobile-games-ab-testing/versions/1\n",
      "['cookie_cats.csv']\n"
     ]
    },
    {
     "name": "stderr",
     "output_type": "stream",
     "text": [
      "\n"
     ]
    }
   ],
   "source": [
    "import kagglehub\n",
    "import os\n",
    "import pandas as pd\n",
    "import numpy as np\n",
    "\n",
    "# Download latest version\n",
    "path = kagglehub.dataset_download(\"yufengsui/mobile-games-ab-testing\")\n",
    "\n",
    "print(\"Path to dataset files:\", path)\n",
    "print(os.listdir(path))"
   ]
  },
  {
   "cell_type": "code",
   "execution_count": 3,
   "id": "ccf4ed3c",
   "metadata": {},
   "outputs": [
    {
     "data": {
      "text/html": [
       "<div>\n",
       "<style scoped>\n",
       "    .dataframe tbody tr th:only-of-type {\n",
       "        vertical-align: middle;\n",
       "    }\n",
       "\n",
       "    .dataframe tbody tr th {\n",
       "        vertical-align: top;\n",
       "    }\n",
       "\n",
       "    .dataframe thead th {\n",
       "        text-align: right;\n",
       "    }\n",
       "</style>\n",
       "<table border=\"1\" class=\"dataframe\">\n",
       "  <thead>\n",
       "    <tr style=\"text-align: right;\">\n",
       "      <th></th>\n",
       "      <th>userid</th>\n",
       "      <th>version</th>\n",
       "      <th>sum_gamerounds</th>\n",
       "      <th>retention_1</th>\n",
       "      <th>retention_7</th>\n",
       "    </tr>\n",
       "  </thead>\n",
       "  <tbody>\n",
       "    <tr>\n",
       "      <th>0</th>\n",
       "      <td>116</td>\n",
       "      <td>gate_30</td>\n",
       "      <td>3</td>\n",
       "      <td>False</td>\n",
       "      <td>False</td>\n",
       "    </tr>\n",
       "    <tr>\n",
       "      <th>1</th>\n",
       "      <td>337</td>\n",
       "      <td>gate_30</td>\n",
       "      <td>38</td>\n",
       "      <td>True</td>\n",
       "      <td>False</td>\n",
       "    </tr>\n",
       "    <tr>\n",
       "      <th>2</th>\n",
       "      <td>377</td>\n",
       "      <td>gate_40</td>\n",
       "      <td>165</td>\n",
       "      <td>True</td>\n",
       "      <td>False</td>\n",
       "    </tr>\n",
       "    <tr>\n",
       "      <th>3</th>\n",
       "      <td>483</td>\n",
       "      <td>gate_40</td>\n",
       "      <td>1</td>\n",
       "      <td>False</td>\n",
       "      <td>False</td>\n",
       "    </tr>\n",
       "    <tr>\n",
       "      <th>4</th>\n",
       "      <td>488</td>\n",
       "      <td>gate_40</td>\n",
       "      <td>179</td>\n",
       "      <td>True</td>\n",
       "      <td>True</td>\n",
       "    </tr>\n",
       "  </tbody>\n",
       "</table>\n",
       "</div>"
      ],
      "text/plain": [
       "   userid  version  sum_gamerounds  retention_1  retention_7\n",
       "0     116  gate_30               3        False        False\n",
       "1     337  gate_30              38         True        False\n",
       "2     377  gate_40             165         True        False\n",
       "3     483  gate_40               1        False        False\n",
       "4     488  gate_40             179         True         True"
      ]
     },
     "execution_count": 3,
     "metadata": {},
     "output_type": "execute_result"
    }
   ],
   "source": [
    "df = pd.read_csv(os.path.join(path, 'cookie_cats.csv'))\n",
    "df.head()"
   ]
  },
  {
   "cell_type": "code",
   "execution_count": 4,
   "id": "7234ce92",
   "metadata": {},
   "outputs": [
    {
     "name": "stdout",
     "output_type": "stream",
     "text": [
      "<class 'pandas.core.frame.DataFrame'>\n",
      "RangeIndex: 90189 entries, 0 to 90188\n",
      "Data columns (total 5 columns):\n",
      " #   Column          Non-Null Count  Dtype \n",
      "---  ------          --------------  ----- \n",
      " 0   userid          90189 non-null  int64 \n",
      " 1   version         90189 non-null  object\n",
      " 2   sum_gamerounds  90189 non-null  int64 \n",
      " 3   retention_1     90189 non-null  bool  \n",
      " 4   retention_7     90189 non-null  bool  \n",
      "dtypes: bool(2), int64(2), object(1)\n",
      "memory usage: 2.2+ MB\n"
     ]
    }
   ],
   "source": [
    "# Check missing values\n",
    "df.info()"
   ]
  },
  {
   "cell_type": "code",
   "execution_count": 5,
   "id": "b81c8d1d",
   "metadata": {},
   "outputs": [
    {
     "data": {
      "text/plain": [
       "userid            0\n",
       "version           0\n",
       "sum_gamerounds    0\n",
       "retention_1       0\n",
       "retention_7       0\n",
       "dtype: int64"
      ]
     },
     "execution_count": 5,
     "metadata": {},
     "output_type": "execute_result"
    }
   ],
   "source": [
    "df.isnull().sum()"
   ]
  },
  {
   "cell_type": "markdown",
   "id": "da9478b3",
   "metadata": {},
   "source": [
    "# **Let's start the EDA**\n",
    "## Statistics about gamerounds"
   ]
  },
  {
   "cell_type": "code",
   "execution_count": 6,
   "id": "d1c55940",
   "metadata": {},
   "outputs": [
    {
     "data": {
      "text/plain": [
       "count    90189.000000\n",
       "mean        51.872457\n",
       "std        195.050858\n",
       "min          0.000000\n",
       "0%           0.000000\n",
       "10%          1.000000\n",
       "20%          3.000000\n",
       "30%          6.000000\n",
       "40%         11.000000\n",
       "50%         16.000000\n",
       "60%         25.000000\n",
       "70%         40.000000\n",
       "80%         67.000000\n",
       "90%        134.000000\n",
       "95%        221.000000\n",
       "99%        493.000000\n",
       "100%     49854.000000\n",
       "max      49854.000000\n",
       "Name: sum_gamerounds, dtype: float64"
      ]
     },
     "execution_count": 6,
     "metadata": {},
     "output_type": "execute_result"
    }
   ],
   "source": [
    "df['sum_gamerounds'].describe([0, 0.1, 0.2, 0.3, 0.4, 0.5, 0.6, 0.7, 0.8, 0.9, 0.95, 0.99, 1])"
   ]
  },
  {
   "cell_type": "markdown",
   "id": "4f50141b",
   "metadata": {},
   "source": [
    "| Metric                       | Meaning                                                                                               |\n",
    "| ---------------------------- | ----------------------------------------------------------------------------------------------------- |\n",
    "| **count**                    | Number of data points: **90,189** users.                                                              |\n",
    "| **mean**                     | Average number of rounds played: **51.87**.                                                           |\n",
    "| **std**                      | Standard deviation (spread): **195.05** → Very large, which hints at some extreme values or outliers. |\n",
    "| **min / 0%**                 | Minimum rounds played: **0** — Some users didn't play at all.                                         |\n",
    "| **10%**                      | 10% of the players played <= 1 round                                                                     |\n",
    "| **20%**                      | 20% of the players played <= 3 rounds                                                                    |\n",
    "| **30%**                      | 30% of the players played <= 6 rounds                                                                    |\n",
    "| **50%**                      | 50% of the players played <= 16 rounds                                                                   |\n",
    "| **70%**                      | 70% of the players played <= 40 rounds                                                                   |\n",
    "| **90%**                      | 90% of the players played <= 134 rounds                                                                   |\n",
    "| **95%**                      | 95% of the players played <= 221 rounds                                                                   |\n",
    "| **99%**                      | 99% of the players played <= 493 rounds                                                                   |\n",
    "| **Maximum / 100%**                      | All of the players played <= 49854 rounds (which is weird in my opinion)                                                          |\n"
   ]
  },
  {
   "cell_type": "code",
   "execution_count": 7,
   "id": "1e40f482",
   "metadata": {},
   "outputs": [
    {
     "data": {
      "text/html": [
       "<div>\n",
       "<style scoped>\n",
       "    .dataframe tbody tr th:only-of-type {\n",
       "        vertical-align: middle;\n",
       "    }\n",
       "\n",
       "    .dataframe tbody tr th {\n",
       "        vertical-align: top;\n",
       "    }\n",
       "\n",
       "    .dataframe thead th {\n",
       "        text-align: right;\n",
       "    }\n",
       "</style>\n",
       "<table border=\"1\" class=\"dataframe\">\n",
       "  <thead>\n",
       "    <tr style=\"text-align: right;\">\n",
       "      <th></th>\n",
       "      <th>userid</th>\n",
       "      <th>version</th>\n",
       "      <th>sum_gamerounds</th>\n",
       "      <th>retention_1</th>\n",
       "      <th>retention_7</th>\n",
       "    </tr>\n",
       "  </thead>\n",
       "  <tbody>\n",
       "    <tr>\n",
       "      <th>57702</th>\n",
       "      <td>6390605</td>\n",
       "      <td>gate_30</td>\n",
       "      <td>49854</td>\n",
       "      <td>False</td>\n",
       "      <td>True</td>\n",
       "    </tr>\n",
       "    <tr>\n",
       "      <th>7912</th>\n",
       "      <td>871500</td>\n",
       "      <td>gate_30</td>\n",
       "      <td>2961</td>\n",
       "      <td>True</td>\n",
       "      <td>True</td>\n",
       "    </tr>\n",
       "    <tr>\n",
       "      <th>29417</th>\n",
       "      <td>3271615</td>\n",
       "      <td>gate_40</td>\n",
       "      <td>2640</td>\n",
       "      <td>True</td>\n",
       "      <td>False</td>\n",
       "    </tr>\n",
       "    <tr>\n",
       "      <th>43671</th>\n",
       "      <td>4832608</td>\n",
       "      <td>gate_30</td>\n",
       "      <td>2438</td>\n",
       "      <td>True</td>\n",
       "      <td>True</td>\n",
       "    </tr>\n",
       "    <tr>\n",
       "      <th>48188</th>\n",
       "      <td>5346171</td>\n",
       "      <td>gate_40</td>\n",
       "      <td>2294</td>\n",
       "      <td>True</td>\n",
       "      <td>True</td>\n",
       "    </tr>\n",
       "    <tr>\n",
       "      <th>...</th>\n",
       "      <td>...</td>\n",
       "      <td>...</td>\n",
       "      <td>...</td>\n",
       "      <td>...</td>\n",
       "      <td>...</td>\n",
       "    </tr>\n",
       "    <tr>\n",
       "      <th>59687</th>\n",
       "      <td>6610805</td>\n",
       "      <td>gate_30</td>\n",
       "      <td>0</td>\n",
       "      <td>False</td>\n",
       "      <td>False</td>\n",
       "    </tr>\n",
       "    <tr>\n",
       "      <th>23707</th>\n",
       "      <td>2639282</td>\n",
       "      <td>gate_40</td>\n",
       "      <td>0</td>\n",
       "      <td>False</td>\n",
       "      <td>False</td>\n",
       "    </tr>\n",
       "    <tr>\n",
       "      <th>59670</th>\n",
       "      <td>6608718</td>\n",
       "      <td>gate_30</td>\n",
       "      <td>0</td>\n",
       "      <td>False</td>\n",
       "      <td>False</td>\n",
       "    </tr>\n",
       "    <tr>\n",
       "      <th>59645</th>\n",
       "      <td>6604544</td>\n",
       "      <td>gate_30</td>\n",
       "      <td>0</td>\n",
       "      <td>False</td>\n",
       "      <td>False</td>\n",
       "    </tr>\n",
       "    <tr>\n",
       "      <th>45094</th>\n",
       "      <td>4995815</td>\n",
       "      <td>gate_40</td>\n",
       "      <td>0</td>\n",
       "      <td>False</td>\n",
       "      <td>False</td>\n",
       "    </tr>\n",
       "  </tbody>\n",
       "</table>\n",
       "<p>90189 rows × 5 columns</p>\n",
       "</div>"
      ],
      "text/plain": [
       "        userid  version  sum_gamerounds  retention_1  retention_7\n",
       "57702  6390605  gate_30           49854        False         True\n",
       "7912    871500  gate_30            2961         True         True\n",
       "29417  3271615  gate_40            2640         True        False\n",
       "43671  4832608  gate_30            2438         True         True\n",
       "48188  5346171  gate_40            2294         True         True\n",
       "...        ...      ...             ...          ...          ...\n",
       "59687  6610805  gate_30               0        False        False\n",
       "23707  2639282  gate_40               0        False        False\n",
       "59670  6608718  gate_30               0        False        False\n",
       "59645  6604544  gate_30               0        False        False\n",
       "45094  4995815  gate_40               0        False        False\n",
       "\n",
       "[90189 rows x 5 columns]"
      ]
     },
     "execution_count": 7,
     "metadata": {},
     "output_type": "execute_result"
    }
   ],
   "source": [
    "df.sort_values(by = 'sum_gamerounds', ascending = False)"
   ]
  },
  {
   "cell_type": "markdown",
   "id": "36272694",
   "metadata": {},
   "source": [
    "### After checking the values, we can conclude that there are outliers in the data. Since it may distort the typical behaviors of a user, we need to transform the data.\n",
    "### This time, I'm using a log transformation"
   ]
  },
  {
   "cell_type": "code",
   "execution_count": 8,
   "id": "f5b0a039",
   "metadata": {},
   "outputs": [
    {
     "data": {
      "text/plain": [
       "count    90189.000000\n",
       "mean         2.879746\n",
       "std          1.503792\n",
       "min          0.000000\n",
       "0%           0.000000\n",
       "10%          0.693147\n",
       "20%          1.386294\n",
       "30%          1.945910\n",
       "40%          2.484907\n",
       "50%          2.833213\n",
       "60%          3.258097\n",
       "70%          3.713572\n",
       "80%          4.219508\n",
       "90%          4.905275\n",
       "95%          5.402677\n",
       "99%          6.202536\n",
       "100%        10.816874\n",
       "max         10.816874\n",
       "Name: log_sum_gamerounds, dtype: float64"
      ]
     },
     "execution_count": 8,
     "metadata": {},
     "output_type": "execute_result"
    }
   ],
   "source": [
    "log_values = np.log1p(df['sum_gamerounds'])  #log(1 + x)\n",
    "mean = log_values.mean()\n",
    "std = log_values.std()\n",
    "\n",
    "df['log_sum_gamerounds'] = log_values\n",
    "df['log_sum_gamerounds'].describe([0, 0.1, 0.2, 0.3, 0.4, 0.5, 0.6, 0.7, 0.8, 0.9, 0.95, 0.99, 1])\n"
   ]
  },
  {
   "cell_type": "markdown",
   "id": "b84abbea",
   "metadata": {},
   "source": [
    "### This data is using retention 1 and retention 7 to make statistical inferences about rentention rate in this game\n",
    "### Therefore, let's make a new column where **Retention is True** when players come back after 1 day and 7 days of playing"
   ]
  },
  {
   "cell_type": "code",
   "execution_count": 9,
   "id": "7ff3fe9e",
   "metadata": {},
   "outputs": [],
   "source": [
    "df['Retention'] = df.apply(lambda row: True if (row['retention_1'] == True) and (row['retention_7'] == True) else False, axis = 1)\n",
    "df['Group'] = df.apply(lambda row: 'Group A' if (row['version'] == 'gate_30') else 'Group B', axis = 1)"
   ]
  },
  {
   "cell_type": "code",
   "execution_count": 23,
   "id": "898ecbd3",
   "metadata": {},
   "outputs": [
    {
     "name": "stdout",
     "output_type": "stream",
     "text": [
      "retention_1\n",
      "False    50036\n",
      "True     40153\n",
      "Name: count, dtype: int64\n",
      "retention_7\n",
      "False    73408\n",
      "True     16781\n",
      "Name: count, dtype: int64\n",
      "Retention\n",
      "False    77007\n",
      "True     13182\n",
      "Name: count, dtype: int64\n",
      "---\n",
      "Day 1 Retention Rate: 44.52%\n",
      "Day 7 Retention Rate: 18.61%\n",
      "Retention Rate: 14.62%\n"
     ]
    }
   ],
   "source": [
    "print(df['retention_1'].value_counts())\n",
    "print(df['retention_7'].value_counts())\n",
    "print(df['Retention'].value_counts())\n",
    "print(\"---\")\n",
    "\n",
    "print(f\"Day 1 Retention Rate: {round(df['retention_1'].mean() * 100, 2)}%\")\n",
    "print(f\"Day 7 Retention Rate: {round(df['retention_7'].mean() * 100, 2)}%\")\n",
    "print(f\"Retention Rate: {round(df['Retention'].mean() * 100, 2)}%\")\n"
   ]
  },
  {
   "cell_type": "code",
   "execution_count": 25,
   "id": "1ca29168",
   "metadata": {},
   "outputs": [
    {
     "data": {
      "text/plain": [
       "Index(['userid', 'version', 'sum_gamerounds', 'retention_1', 'retention_7',\n",
       "       'log_sum_gamerounds', 'Retention', 'Group'],\n",
       "      dtype='object')"
      ]
     },
     "execution_count": 25,
     "metadata": {},
     "output_type": "execute_result"
    }
   ],
   "source": [
    "df.columns"
   ]
  },
  {
   "cell_type": "code",
   "execution_count": 28,
   "id": "39362150",
   "metadata": {},
   "outputs": [
    {
     "data": {
      "text/html": [
       "<div>\n",
       "<style scoped>\n",
       "    .dataframe tbody tr th:only-of-type {\n",
       "        vertical-align: middle;\n",
       "    }\n",
       "\n",
       "    .dataframe tbody tr th {\n",
       "        vertical-align: top;\n",
       "    }\n",
       "\n",
       "    .dataframe thead th {\n",
       "        text-align: right;\n",
       "    }\n",
       "</style>\n",
       "<table border=\"1\" class=\"dataframe\">\n",
       "  <thead>\n",
       "    <tr style=\"text-align: right;\">\n",
       "      <th></th>\n",
       "      <th>count</th>\n",
       "      <th>mean</th>\n",
       "      <th>std</th>\n",
       "      <th>min</th>\n",
       "      <th>25%</th>\n",
       "      <th>50%</th>\n",
       "      <th>75%</th>\n",
       "      <th>max</th>\n",
       "    </tr>\n",
       "    <tr>\n",
       "      <th>Retention</th>\n",
       "      <th></th>\n",
       "      <th></th>\n",
       "      <th></th>\n",
       "      <th></th>\n",
       "      <th></th>\n",
       "      <th></th>\n",
       "      <th></th>\n",
       "      <th></th>\n",
       "    </tr>\n",
       "  </thead>\n",
       "  <tbody>\n",
       "    <tr>\n",
       "      <th>False</th>\n",
       "      <td>77007.0</td>\n",
       "      <td>28.734050</td>\n",
       "      <td>185.981727</td>\n",
       "      <td>0.0</td>\n",
       "      <td>4.0</td>\n",
       "      <td>12.0</td>\n",
       "      <td>33.0</td>\n",
       "      <td>49854.0</td>\n",
       "    </tr>\n",
       "    <tr>\n",
       "      <th>True</th>\n",
       "      <td>13182.0</td>\n",
       "      <td>187.043089</td>\n",
       "      <td>191.926715</td>\n",
       "      <td>0.0</td>\n",
       "      <td>67.0</td>\n",
       "      <td>130.0</td>\n",
       "      <td>240.0</td>\n",
       "      <td>2961.0</td>\n",
       "    </tr>\n",
       "  </tbody>\n",
       "</table>\n",
       "</div>"
      ],
      "text/plain": [
       "             count        mean         std  min   25%    50%    75%      max\n",
       "Retention                                                                   \n",
       "False      77007.0   28.734050  185.981727  0.0   4.0   12.0   33.0  49854.0\n",
       "True       13182.0  187.043089  191.926715  0.0  67.0  130.0  240.0   2961.0"
      ]
     },
     "execution_count": 28,
     "metadata": {},
     "output_type": "execute_result"
    }
   ],
   "source": [
    "df.groupby(['Retention'])['sum_gamerounds'].describe()"
   ]
  },
  {
   "cell_type": "code",
   "execution_count": null,
   "id": "492961df",
   "metadata": {},
   "outputs": [],
   "source": []
  }
 ],
 "metadata": {
  "kernelspec": {
   "display_name": "Python 3",
   "language": "python",
   "name": "python3"
  },
  "language_info": {
   "codemirror_mode": {
    "name": "ipython",
    "version": 3
   },
   "file_extension": ".py",
   "mimetype": "text/x-python",
   "name": "python",
   "nbconvert_exporter": "python",
   "pygments_lexer": "ipython3",
   "version": "3.9.6"
  }
 },
 "nbformat": 4,
 "nbformat_minor": 5
}
